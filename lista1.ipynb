{
 "cells": [
  {
   "cell_type": "markdown",
   "metadata": {},
   "source": [
    "# Lista 1\n",
    "\n",
    "## Kurs wybranego jÄzyka programowania (Python)\n",
    "\n",
    "Wszystkie rozwiÄ",
    "zania proszÄ wpisaÄ w tym notatniku poniĹźej treĹci zadaĹ. Zadania z `*` to zadania dodatkowe."
   ]
  },
  {
   "cell_type": "markdown",
   "metadata": {},
   "source": [
    "## Zadanie 1 _(5pt)_\n",
    "\n",
    "Napisz funkcję, ktĂłry wyĹwietla trĂłjkÄ",
    "t Pascala o zadanej wysokoĹci\n",
    "```\n",
    "                1\n",
    "              1   1\n",
    "            1   2   1\n",
    "          1   3   3   1\n",
    "        1   4   6   4   1\n",
    "      .....................\n",
    "```"
   ]
  },
  {
   "cell_type": "code",
   "execution_count": 10,
   "metadata": {
    "scrolled": true
   },
   "outputs": [
    {
     "name": "stdout",
     "output_type": "stream",
     "text": [
      "                1   \n",
      "              1   1   \n",
      "            1   2   1   \n",
      "          1   3   3   1   \n",
      "        1   4   6   4   1   \n",
      "      1   5   10  10  5   1   \n",
      "    1   6   15  20  15  6   1   \n",
      "  1   7   21  35  35  21  7   1   \n",
      "1   8   28  56  70  56  28  8   1   \n"
     ]
    }
   ],
   "source": [
    "from math import factorial as fac\n",
    "\n",
    "def binomial(x, y):\n",
    "    try:\n",
    "        binom = fac(x) // fac(y) // fac(x - y)\n",
    "    except ValueError:\n",
    "        binom = 0\n",
    "    return binom\n",
    "\n",
    "def smartBinomial(prev, n, k):\n",
    "    if k == 0:\n",
    "        prev[(n,k)] = 1\n",
    "        return 1\n",
    "    if k == n:\n",
    "        prev[(n,n)] = 1\n",
    "        return 1\n",
    "    \n",
    "    val = prev[(n-1,k-1)] + prev[(n-1,k)]\n",
    "    prev[(n,k)] = val\n",
    "    return val\n",
    "\n",
    "def pascal_triangle(n):\n",
    "    dic = {}\n",
    "    \n",
    "    for i in range(0,n):\n",
    "        print(\"  \" * (n - (i+1)) , end=\"\")\n",
    "        \n",
    "        for j in range(0,i+1):\n",
    "            cur = smartBinomial(dic,i,j)\n",
    "            #cur = binomial(i,j)\n",
    "            if cur >= 10: #formatter\n",
    "                print(cur, end=\"  \")\n",
    "            else: \n",
    "                print(cur, end=\"   \")\n",
    "    \n",
    "        print(\"\")\n",
    "            \n",
    "pascal_triangle(9)\n"
   ]
  },
  {
   "cell_type": "markdown",
   "metadata": {},
   "source": [
    "## Zadanie 2 _(5pt)_\n",
    "\n",
    "Napisz funkcjÄ `primes(n)` zwracajÄ",
    "ca listÄ liczb pierwszych nie wiÄkszych niĹź $n$ np.\n",
    "\n",
    "```\n",
    "In [ ]:   primes(6)\n",
    "Out [ ]: [2, 3, 5]\n",
    "```"
   ]
  },
  {
   "cell_type": "code",
   "execution_count": 121,
   "metadata": {},
   "outputs": [
    {
     "data": {
      "text/plain": [
       "[2,\n",
       " 3,\n",
       " 5,\n",
       " 7,\n",
       " 11,\n",
       " 13,\n",
       " 17,\n",
       " 19,\n",
       " 23,\n",
       " 29,\n",
       " 31,\n",
       " 37,\n",
       " 41,\n",
       " 43,\n",
       " 47,\n",
       " 53,\n",
       " 59,\n",
       " 61,\n",
       " 67,\n",
       " 71,\n",
       " 73,\n",
       " 79,\n",
       " 83,\n",
       " 89,\n",
       " 97]"
      ]
     },
     "execution_count": 121,
     "metadata": {},
     "output_type": "execute_result"
    }
   ],
   "source": [
    "def sito(n):\n",
    "    tab = [2]\n",
    "    if n < 2:\n",
    "        return []\n",
    "\n",
    "    for i in range(3,n+1,2):\n",
    "        for j in tab[1:]:\n",
    "            if i % j == 0:\n",
    "                break\n",
    "        else:\n",
    "            tab.append(i)\n",
    "            \n",
    "    return tab\n",
    "\n",
    "sito(100)"
   ]
  },
  {
   "cell_type": "markdown",
   "metadata": {},
   "source": [
    "## Zadanie 3 _(5pt)_\n",
    "\n",
    "Napisz funkcje, ktĂłra usuwa wszystkie powtarzajÄ",
    "ce siÄ elementy z listy (tak, Ĺźe kaĹźdy element wystÄpuje tylko raz) np. z listy `[1,1,2,2,2,3,3,5,5,5,4,4,4,0]` dostajemy `[1,2,3,5,4,0]`."
   ]
  },
  {
   "cell_type": "code",
   "execution_count": 4,
   "metadata": {},
   "outputs": [
    {
     "data": {
      "text/plain": [
       "[1, 2, 3, 5, 4, 0]"
      ]
     },
     "execution_count": 4,
     "metadata": {},
     "output_type": "execute_result"
    }
   ],
   "source": [
    "def makeUnique_unordered(tab):\n",
    "    myset = set(tab)\n",
    "    return list(myset)\n",
    "\n",
    "def makeUnique_ordered(tab):\n",
    "    new = []\n",
    "    new.append(tab[0])\n",
    "    for i in range(1,len(tab)):\n",
    "        if tab[i] not in new:\n",
    "            new.append(tab[i])\n",
    "    return new\n",
    "\n",
    "makeUnique_ordered([1,1,2,2,2,3,3,5,5,5,4,4,4,0])"
   ]
  },
  {
   "cell_type": "markdown",
   "metadata": {},
   "source": [
    "## Zadanie 4 _(10pt)_\n",
    "\n",
    "Napisz funkcjÄ `prime_factors(n)`, ktĂłra rozkĹada $n$ na czynniki pierwsze i jako wynik wraca listÄ par $[(p_1,\\alpha_1), (p_2,\\alpha_2), \\ldots, (p_k, \\alpha_k)]$ takÄ",
    ", Ĺźe $p_1^{\\alpha_1}p_2^{\\alpha_2}\\ldots p_k^{\\alpha_k}$.\n"
   ]
  },
  {
   "cell_type": "code",
   "execution_count": 138,
   "metadata": {},
   "outputs": [
    {
     "data": {
      "text/plain": [
       "[(5, 1), (7, 1)]"
      ]
     },
     "execution_count": 138,
     "metadata": {},
     "output_type": "execute_result"
    }
   ],
   "source": [
    "import math\n",
    "\n",
    "def prime_factors(n):\n",
    "    start = n\n",
    "    czyn = sito(math.ceil(math.sqrt(n)))\n",
    "    res = []\n",
    "    \n",
    "    for el in czyn:\n",
    "            \n",
    "        if n % el == 0:\n",
    "            i = 0\n",
    "            \n",
    "            while n % el == 0:\n",
    "                i += 1\n",
    "                n /= el                \n",
    "                \n",
    "            res.append((el,i))\n",
    "    \n",
    "    if n >= math.sqrt(start):#prime and n=pq fix\n",
    "        res.append((int(n),1))\n",
    "       \n",
    "    return res\n",
    "\n",
    "prime_factors(35)"
   ]
  },
  {
   "cell_type": "markdown",
   "metadata": {},
   "source": [
    "## Zadanie 5 _(10pt)_\n",
    "\n",
    "Napisz funkcjÄ `fraczero(n)` liczÄ",
    "cÄ",
    " silnie $n!$ dla $n$ od $0$ do $10000$ oraz jako wynik wraca liczbÄ zer na koĹcu $n!$."
   ]
  },
  {
   "cell_type": "code",
   "execution_count": 3,
   "metadata": {},
   "outputs": [
    {
     "data": {
      "text/plain": [
       "4999"
      ]
     },
     "execution_count": 3,
     "metadata": {},
     "output_type": "execute_result"
    }
   ],
   "source": [
    "from math import factorial as fac\n",
    "\n",
    "def fraczero(n):\n",
    "    x = fac(n)\n",
    "    \n",
    "    i = 0\n",
    "    while x % 10 == 0:\n",
    "        \n",
    "        i += 1\n",
    "        x //= 10\n",
    "    return i\n",
    "\n",
    "fraczero(20000)"
   ]
  },
  {
   "cell_type": "markdown",
   "metadata": {},
   "source": [
    "# Zadanie 6 _(10pt)_\n",
    "\n",
    "Napisz program, ktĂłry generuje liczbÄ $20$ liczb losowych (rozkĹad jednostajny) od $1$ do $100$\n",
    "* WyĹwietl listÄ wygenerowanych liczb\n",
    "* WyĹwietl ĹredniÄ",
    "\n",
    "* WyĹwietl najwiÄkszÄ",
    " i najmniejszÄ",
    " wartoĹÄ\n",
    "* WyĹwietl drugÄ",
    " najwiÄkszÄ",
    " i drugÄ",
    " najmniejszÄ",
    " wartoĹÄ na liĹcie\n",
    "* WyĹwietl ile jest liczb parzystych na liĹcie\n",
    " "
   ]
  },
  {
   "cell_type": "code",
   "execution_count": 7,
   "metadata": {},
   "outputs": [
    {
     "name": "stdout",
     "output_type": "stream",
     "text": [
      "Lista:\t\t [42, 49, 52, 97, 9, 34, 8, 53, 62, 93, 80, 26, 45, 28, 7, 49, 13, 88, 42, 97]\n",
      "Średnia:\t <48.7>\n",
      "1st (Max,Min):\t (97, 7)\n",
      "2nd (Max,Min):\t (97, 8)\n",
      "Prime count:\t <5>\n"
     ]
    }
   ],
   "source": [
    "import random\n",
    "\n",
    "def genList(rng = 20, minv = 1, maxv = 100):\n",
    "    mylist = []\n",
    "    const_primes = sito(maxv)\n",
    "    primes = 0\n",
    "    \n",
    "    min_el = maxv\n",
    "    max_el = minv\n",
    "    sumv = 0\n",
    "    \n",
    "    for i in range(0, rng):\n",
    "        el = random.randint(minv,maxv)#generate\n",
    "        \n",
    "        if el > max_el:#max\n",
    "            max_el = el\n",
    "            \n",
    "        if el < min_el:#min\n",
    "            min_el = el\n",
    "        \n",
    "        if el in const_primes:#is prime\n",
    "            primes+=1\n",
    "            \n",
    "        sumv += el\n",
    "        mylist.append(el)\n",
    "        \n",
    "    sublist = mylist.copy()\n",
    "    sublist.remove(max_el)\n",
    "    max_prev = max(sublist)\n",
    "    \n",
    "    sublist.remove(min_el)\n",
    "    min_prev = min(sublist)\n",
    "        \n",
    "    return (mylist,sumv/rng,(max_el,min_el),(max_prev,min_prev) , primes)\n",
    "\n",
    "(mylist, avg, maxmin, maxmin2, primes) = genList(20)\n",
    "print(f\"Lista:\\t\\t {mylist}\")\n",
    "print(f\"Średnia:\\t <{avg}>\")\n",
    "print(f\"1st (Max,Min):\\t {maxmin}\")\n",
    "print(f\"2nd (Max,Min):\\t {maxmin2}\")\n",
    "print(f\"Prime count:\\t <{primes}>\")\n"
   ]
  },
  {
   "cell_type": "markdown",
   "metadata": {},
   "source": [
    "## Zadanie 7 _(10pt)_\n",
    "\n",
    "Załóżmy, że mamy następującą listę: `L = ['aababacaa', 'cabaabcca', 'aaabbcbacb', 'acababbaab', ...]` wygenerowanÄ",
    " losowo tzn. lista zawiera losowe ciÄ",
    "gi znakĂłw o zadanej dĹugoĹci z liter `'a'`, `'b'` i `'c'`. Takie wzorce wystÄpujÄ",
    " w wielu miejscach np. sekwencje DNA. UĹźytkownik zawiera swĂłj (wzorzec) ciÄ",
    "g znakĂłw z literami i pustymi miejscami oznaczonymi przez `'*'` np. `\"a**a******\"`. Wykorzystaj sĹownik z kluczami zawierajÄ",
    "cymi indeksy znakĂłw rĂłĹźnych od `'*'` i wartoĹciami liter z wzorca. Napisz program, ktĂłry znajduje wszystkie sekwencje z listy, ktĂłre pasuje do podanego wzorca."
   ]
  },
  {
   "cell_type": "code",
   "execution_count": 8,
   "metadata": {},
   "outputs": [
    {
     "name": "stdout",
     "output_type": "stream",
     "text": [
      "['babcccbcbc', 'abcabaaabb', 'aaacabcccc', 'bbacccbaab', 'acabacbaac', 'acbaacbacb', 'aabcacbaac', 'cbbccbbbaa', 'accabacabb', 'aaaacabbca', 'bbababcaaa', 'caacbbcbca', 'bcabaaabab', 'cccabaaaca', 'acccccbcbc', 'bacbcabccb', 'bbbbbcaaac', 'bbaabbcbcb', 'caaccabcbc', 'accccabbbc', 'cbaaaaabca', 'cbabbaacac', 'bacbcaacaa', 'abcaacbcbc', 'caaaccbbac', 'ccacaacbaa', 'ababbcbaab', 'cbbcbcccab', 'bbbacaccaa', 'abaacbcbbb', 'bbcbcabbaa', 'abbbcaabac', 'bacababbbb', 'baccabbcab', 'cacbccacbc', 'bbccaaabaa', 'ccaacacabb', 'bcabbababc', 'aacaccbcba', 'acbccccacb', 'accaaccbaa', 'aabaacabca', 'abccabbabb', 'caccbabcab', 'abaccbaacc', 'cbbbcaaaca', 'aacbbcbabb', 'cbacbbbbcb', 'ababaaccbb', 'aaaaaabaac']\n"
     ]
    }
   ],
   "source": [
    "def genStrs(size = 10, amount = 5):\n",
    "    mylist = []\n",
    "    \n",
    "    for i in range(0,amount):\n",
    "        cur = \"\"\n",
    "        for j in range(0,size):\n",
    "            cur += random.choice(['a','b','c'])\n",
    "            \n",
    "        mylist.append(cur)\n",
    "    \n",
    "    return mylist\n",
    "\n",
    "def match(strs, pattern):\n",
    "    my_dict = {}\n",
    "    \n",
    "    for i in range(0,len(pattern)):\n",
    "        if pattern[i] != '*':\n",
    "            my_dict[i] = pattern[i]\n",
    "        \n",
    "    for string in strs:\n",
    "        for (key,val) in my_dict.items():\n",
    "            if string[key] != val:\n",
    "                break\n",
    "        else:\n",
    "            print(f\"String: <{string}> matches!\")\n",
    "        \n",
    "    \n",
    "    \n",
    "res = genStrs(10,50)\n",
    "print(res)\n",
    "#pattern = input(\"input pattern: \")\n",
    "match(res, \"a*bb*c***\")\n",
    "\n",
    "\n",
    "\n",
    "    "
   ]
  },
  {
   "cell_type": "markdown",
   "metadata": {},
   "source": [
    "## Zadanie 8 _(10pt)_\n",
    "\n",
    "Napisz program, ktĂłry konwerteruje liczby rzymskie na liczby arabskie. Do zapisu liczb rzymskich uĹźywa\n",
    "siÄ 7 liter: `I=1`, `V=5`, `X=10`, `L=50`, `C=100`, `D=500`, `M=1000`. Opis algorytmu zamiany z i na system rzymski moĹźna znaleĹşÄ np. [tutaj](http://www.algorytm.org/algorytmy-arytmetyczne/zamiana-z-i-na-system-rzymski.html)"
   ]
  },
  {
   "cell_type": "code",
   "execution_count": 4,
   "metadata": {},
   "outputs": [
    {
     "name": "stdout",
     "output_type": "stream",
     "text": [
      "15\n"
     ]
    }
   ],
   "source": [
    "wart = {}\n",
    "wart['I']=1\n",
    "wart['V']=5\n",
    "wart['X']=10\n",
    "wart['L']=50\n",
    "wart['C']=100\n",
    "wart['D']=500\n",
    "wart['M']=1000\n",
    " \n",
    "st = input(\"Input Roman number: \")\n",
    "st = st[::-1]#reverse\n",
    "    \n",
    "last = 0\n",
    "res = 0\n",
    "for i in range(0,len(st)):\n",
    "    v = wart[st[i]]\n",
    "    if v >= last:\n",
    "        last = v\n",
    "        res += v\n",
    "    else:\n",
    "        res -= v\n",
    "        \n",
    "print(res)"
   ]
  },
  {
   "cell_type": "markdown",
   "metadata": {},
   "source": [
    "## Zadanie 9* _(5pt)_\n",
    "\n",
    "Napisz program kalkulator, ktĂłry pobiera wprowadzone wartoĹci oraz funkcje z klawiatury nastÄpnie podaje wynik. W przypadku bĹÄdnych danych zgĹasza bĹÄ",
    "d.\n",
    "\n",
    "PrzykĹadowa sesja:\n",
    "```\n",
    "    Kalkulator\n",
    "    [1]: 2+5*10\n",
    "        52\n",
    "    [2]: sin(0.5)+cos(0.3)\n",
    "        1.434762027729809\n",
    "    [3]: 2^100\n",
    "        1267650600228229401496703205376\n",
    "```\n",
    "\n",
    "PrzykĹadowy kod pobierania danych od uĹźytkownika:\n",
    "\n",
    "```\n",
    "    x = input('Podaj x = ')\n",
    "```"
   ]
  },
  {
   "cell_type": "code",
   "execution_count": 3,
   "metadata": {},
   "outputs": [
    {
     "name": "stdout",
     "output_type": "stream",
     "text": [
      "Put function:sin(x)\n",
      "Parsing error: name 'x' is not defined\n"
     ]
    }
   ],
   "source": [
    "from math import *\n",
    "import re\n",
    "\n",
    "def runParser(txt):\n",
    "    \n",
    "    val = re.sub(\"[^\\d]\\.|rm|/|cd|-r\",\"\",txt)#simple guard\n",
    "    txt = val\n",
    "\n",
    "    val = re.sub(\"\\s\",\"\",txt)\n",
    "    txt = val\n",
    "        \n",
    "    val = re.sub(\"\\^\",\"**\",txt)\n",
    "    txt = val\n",
    "    \n",
    "    return val\n",
    "\n",
    "\n",
    "txt = input(\"Put function:\")\n",
    "txt = runParser(txt)\n",
    "try:\n",
    "    print(eval(txt)) \n",
    "except NameError as e:\n",
    "    print(f\"Parsing error: {e}\")\n",
    "except SyntaxError as e:\n",
    "    print(f\"Parsing error: {e}\")\n"
   ]
  },
  {
   "cell_type": "markdown",
   "metadata": {},
   "source": [
    "\n",
    "## Zadanie 10* _(10pt)_\n",
    "\n",
    "Napisz program, ktĂłry rysuje na ekranie w trybie znakowym wykres funkcji zmiennej $x$. WskazĂłwka: utwĂłrz  ,,tablicÄ dwuwymiarowÄ",
    "'' o wymiarach 80x24 i narysuj wykres w tej tablicy. NastÄpnie wynik wyĹwietl na ekranie.\n",
    "\n",
    "```\n",
    "        Podaj funkcje f(x) = sin(x)\n",
    "        Podaj poczÄ",
    "tek przedziaĹu a = -pi\n",
    "        Podaj koniec przedziaĹu b = pi\n",
    "                                                |\n",
    "                                                |\n",
    "                                                |              ***********\n",
    "                                                |           ***           ***\n",
    "                                                |         **                 **\n",
    "                                                |        *                     *\n",
    "                                                |      **                       **\n",
    "                                                |     *                           *\n",
    "                                                |   **                             **\n",
    "                                                |  *                                 *\n",
    "                                                | *                                   *\n",
    "                                                |*                                     *\n",
    "        ----------------------------------------|---------------------------------------\n",
    "          *                                   * |\n",
    "           *                                 *  |\n",
    "            **                             **   |\n",
    "              *                           *     |\n",
    "               **                       **      |\n",
    "                 *                     *        |\n",
    "                  **                 **         |\n",
    "                    ***           ***           |\n",
    "                       ***** *****              |\n",
    "                            *                   |\n",
    "                                                |\n",
    "```"
   ]
  },
  {
   "cell_type": "code",
   "execution_count": 5,
   "metadata": {
    "scrolled": false
   },
   "outputs": [
    {
     "name": "stdout",
     "output_type": "stream",
     "text": [
      "Put function f(x) = sin(x)\n",
      "Put begin a = -pi\n",
      "Put end b = pi\n",
      "                                       |                                        \n",
      "                                       |                                        \n",
      "                                       |                                        \n",
      "                                       |                                        \n",
      "                                       |                                        \n",
      "                                       |                                        \n",
      "                                       |              ***********               \n",
      "                                       |          ****           ****           \n",
      "                                       |       ***                   ***        \n",
      "                                       |     **                         **      \n",
      "                                       |   **                             **    \n",
      "                                       | **                                 **  \n",
      "*-------------------------------------***-------------------------------------**\n",
      " **                                 ** |                                        \n",
      "   **                             **   |                                        \n",
      "     **                         **     |                                        \n",
      "       ***                   ***       |                                        \n",
      "          ****           ****          |                                        \n",
      "              ***********              |                                        \n",
      "                                       |                                        \n",
      "                                       |                                        \n",
      "                                       |                                        \n",
      "                                       |                                        \n",
      "                                       |                                        \n"
     ]
    }
   ],
   "source": [
    "from math import *\n",
    "\n",
    "def getValue(txt,x):\n",
    "\n",
    "    try:\n",
    "        return eval(txt) \n",
    "    except NameError as e:\n",
    "        print(f\"Parsing error: {e}\")\n",
    "    except SyntaxError as e:\n",
    "        print(f\"Parsing error: {e}\")\n",
    "\n",
    "def printFunction(lists):\n",
    "    for el in lists:\n",
    "        for i in range(0,len(el)):\n",
    "            print(el[i],end=\"\")\n",
    "        print()\n",
    "    \n",
    "def runFunction(f,a,b,dynamic):\n",
    "    #80x24\n",
    "    items = []\n",
    "    for i in range(0,24):\n",
    "        items.append([])\n",
    "        for j in range(0,80):\n",
    "            if i == 12:\n",
    "                items[i].append(\"-\")\n",
    "                continue\n",
    "                    \n",
    "            items[i].append(\" \")\n",
    "            \n",
    "    step = (b-a)/80\n",
    "    x = a\n",
    "    values = []\n",
    "    for i in range(0,80):\n",
    "        prev = x\n",
    "        x += step\n",
    "        if x >= 0 and prev < 0:\n",
    "            for j in range(0,24):\n",
    "                items[j][i] = \"|\"\n",
    "    \n",
    "        values.append(getValue(f,x))\n",
    "    \n",
    "    if not dynamic:#fixed min/max\n",
    "        maxv = 2\n",
    "        minv = -2\n",
    "        \n",
    "    else:          #dynamic min/max, will try to get all space\n",
    "        maxi = max(values)\n",
    "        mini = min(values)\n",
    "        maxi = max(abs(maxi),abs(mini))\n",
    "        \n",
    "        maxv = maxi\n",
    "        minv = -maxi\n",
    "\n",
    "    step = (maxv-minv)/24\n",
    "    \n",
    "    for i in range(0,80):\n",
    "        if step != 0:\n",
    "            rounded = round(values[i]/step) + 12\n",
    "            \n",
    "            if rounded < 24 and rounded > 0:\n",
    "                items[-rounded][i] = \"*\"\n",
    "        else:\n",
    "            items[12][i] = \"*\"\n",
    "    \n",
    "    printFunction(items)\n",
    "\n",
    "txt = input(\"Put function f(x) = \")\n",
    "a = input(\"Put begin a = \")\n",
    "a = eval(a)\n",
    "\n",
    "b = input(\"Put end b = \")\n",
    "b = eval(b)\n",
    "\n",
    "\n",
    "txt = runParser(txt)\n",
    "runFunction(txt,a,b,False)\n"
   ]
  },
  {
   "cell_type": "code",
   "execution_count": null,
   "metadata": {},
   "outputs": [],
   "source": []
  }
 ],
 "metadata": {
  "kernelspec": {
   "display_name": "Python 3",
   "language": "python",
   "name": "python3"
  },
  "language_info": {
   "codemirror_mode": {
    "name": "ipython",
    "version": 3
   },
   "file_extension": ".py",
   "mimetype": "text/x-python",
   "name": "python",
   "nbconvert_exporter": "python",
   "pygments_lexer": "ipython3",
   "version": "3.7.4"
  }
 },
 "nbformat": 4,
 "nbformat_minor": 2
}
